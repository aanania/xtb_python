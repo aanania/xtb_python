{
 "cells": [
  {
   "cell_type": "code",
   "execution_count": 1,
   "metadata": {},
   "outputs": [],
   "source": [
    "import sys\n",
    "sys.path.append(\"/projects/xtb_python/\") # go to parent dir\n",
    "\n",
    "import json\n",
    "import socket\n",
    "import logging\n",
    "import time\n",
    "import ssl\n",
    "from threading import Thread\n",
    "import yaml\n",
    "from src.xtb.xAPIConnector import *\n",
    "\n",
    "# set to true on debug environment only\n",
    "DEBUG = False\n",
    "INFO = True\n",
    "\n",
    "#default connection properites\n",
    "DEFAULT_XAPI_ADDRESS        = 'xapi.xtb.com'\n",
    "#DEFAULT_XAPI_PORT           = 5124  # Demo\n",
    "#DEFUALT_XAPI_STREAMING_PORT = 5125  # Demo\n",
    "DEFAULT_XAPI_PORT           = 5112  # Real\n",
    "DEFUALT_XAPI_STREAMING_PORT = 5113  # Real\n",
    "\n",
    "# wrapper name and version\n",
    "WRAPPER_NAME    = 'python'\n",
    "WRAPPER_VERSION = '2.5.0'\n",
    "\n",
    "# API inter-command timeout (in ms)\n",
    "API_SEND_TIMEOUT = 100\n",
    "\n",
    "# max connection tries\n",
    "API_MAX_CONN_TRIES = 3\n",
    "\n",
    "# logger properties\n",
    "logger = logging.getLogger(\"jsonSocket\")\n",
    "FORMAT = '[%(asctime)-15s][%(funcName)s:%(lineno)d] %(message)s'\n",
    "logging.basicConfig(format=FORMAT)\n",
    "\n",
    "# private information\n",
    "USERID = ''\n",
    "PASSWORD = ''\n",
    "with open('../config/config.yml') as file:\n",
    "    user_yml = yaml.safe_load(file)\n",
    "    USERID = user_yml['user_id']\n",
    "    PASSWORD = user_yml['password']\n",
    "\n",
    "if DEBUG:\n",
    "    logger.setLevel(logging.DEBUG)\n",
    "elif INFO:\n",
    "    logger.setLevel(logging.INFO)\n",
    "else:\n",
    "    logger.setLevel(logging.CRITICAL)\n"
   ]
  },
  {
   "cell_type": "code",
   "execution_count": 2,
   "metadata": {},
   "outputs": [],
   "source": [
    "# example function for processing ticks from Streaming socket\n",
    "def procTickExample(msg): \n",
    "    print(\"TICK: \", msg)\n",
    "\n",
    "# example function for processing trades from Streaming socket\n",
    "def procTradeExample(msg): \n",
    "    print(\"TRADE: \", msg)\n",
    "\n",
    "# example function for processing trades from Streaming socket\n",
    "def procBalanceExample(msg): \n",
    "    print(\"BALANCE: \", msg)\n",
    "\n",
    "# example function for processing trades from Streaming socket\n",
    "def procTradeStatusExample(msg): \n",
    "    print(\"TRADE STATUS: \", msg)\n",
    "\n",
    "# example function for processing trades from Streaming socket\n",
    "def procProfitExample(msg): \n",
    "    print(\"PROFIT: \", msg)\n",
    "\n",
    "# example function for processing news from Streaming socket\n",
    "def procNewsExample(msg): \n",
    "    print(\"NEWS: \", msg)\n",
    "    \n",
    "\n",
    "def main():\n",
    "\n",
    "    # enter your login credentials here\n",
    "    userId = USERID\n",
    "    password = PASSWORD\n",
    "\n",
    "    # create & connect to RR socket\n",
    "    client = APIClient()\n",
    "    \n",
    "    # connect to RR socket, login\n",
    "    loginResponse = client.execute(loginCommand(userId=userId, password=password))\n",
    "    logger.info(str(loginResponse)) \n",
    "\n",
    "    # check if user logged in correctly\n",
    "    if(loginResponse['status'] == False):\n",
    "        print('Login failed. Error code: {0}'.format(loginResponse['errorCode']))\n",
    "        return\n",
    "\n",
    "    # get ssId from login response\n",
    "    ssid = loginResponse['streamSessionId']\n",
    "    \n",
    "    # second method of invoking commands\n",
    "    #resp = client.commandExecute('getAllSymbols')\n",
    "    resp = client.commandExecute('getMarginLevel')\n",
    "    \n",
    "    print(1)\n",
    "    # create & connect to Streaming socket with given ssID\n",
    "    # and functions for processing ticks, trades, profit and tradeStatus\n",
    "    sclient = APIStreamClient(ssId=ssid, tickFun=procTickExample, tradeFun=procTradeExample, profitFun=procProfitExample, tradeStatusFun=procTradeStatusExample)\n",
    "    print(2)\n",
    "\n",
    "    # subscribe for trades\n",
    "    sclient.subscribeTrades()\n",
    "    print(3)\n",
    "    # subscribe for prices\n",
    "    sclient.subscribePrices(['EURUSD', 'EURGBP', 'EURJPY'])\n",
    "    print(4)\n",
    "    # subscribe for profits\n",
    "    sclient.subscribeProfits()\n",
    "    print(5)\n",
    "    # this is an example, make it run for 5 seconds\n",
    "    time.sleep(5)\n",
    "    print(6)\n",
    "    # gracefully close streaming socket\n",
    "    sclient.disconnect()\n",
    "    print(7)\n",
    "    # gracefully close RR socket\n",
    "    client.disconnect()\n",
    "    print(8)\n"
   ]
  },
  {
   "cell_type": "code",
   "execution_count": 3,
   "metadata": {},
   "outputs": [
    {
     "name": "stderr",
     "output_type": "stream",
     "text": [
      "[2020-03-23 17:51:50,089][connect:77] Socket connected\n",
      "[2020-03-23 17:51:50,091][_waitingSend:91] Sent: b'{\"command\": \"login\", \"arguments\": {\"userId\": 1546078, \"password\": \"qhUrKfyPj!HR7Fj\", \"appName\": \"\"}}'\n",
      "[2020-03-23 17:51:50,380][_read:110] Received: {'status': True, 'streamSessionId': '262540fffee58c68-0000501c-001000c3-31627f555a0b4ad4-3ddf2770'}\n",
      "[2020-03-23 17:51:50,380][main:37] {'status': True, 'streamSessionId': '262540fffee58c68-0000501c-001000c3-31627f555a0b4ad4-3ddf2770'}\n",
      "[2020-03-23 17:51:50,384][_waitingSend:91] Sent: b'{\"command\": \"getMarginLevel\", \"arguments\": {}}'\n",
      "[2020-03-23 17:51:50,610][_read:110] Received: {'status': True, 'returnData': {'balance': 6614.26, 'margin': 0.0, 'currency': 'CLP', 'credit': 0.0, 'equityFX': 6614.26, 'equity': 6614.26, 'margin_free': 6614.26, 'margin_level': 0.0, 'stockValue': 0.0, 'stockLock': 0.0, 'cashStockValue': 0.0}}\n"
     ]
    },
    {
     "name": "stdout",
     "output_type": "stream",
     "text": [
      "1\n"
     ]
    },
    {
     "name": "stderr",
     "output_type": "stream",
     "text": [
      "[2020-03-23 17:51:51,335][connect:77] Socket connected\n",
      "[2020-03-23 17:51:51,338][_waitingSend:91] Sent: b'{\"command\": \"getTrades\", \"streamSessionId\": \"262540fffee58c68-0000501c-001000c3-31627f555a0b4ad4-3ddf2770\"}'\n",
      "[2020-03-23 17:51:51,440][_waitingSend:91] Sent: b'{\"command\": \"getTickPrices\", \"symbol\": \"EURUSD\", \"streamSessionId\": \"262540fffee58c68-0000501c-001000c3-31627f555a0b4ad4-3ddf2770\"}'\n"
     ]
    },
    {
     "name": "stdout",
     "output_type": "stream",
     "text": [
      "2\n",
      "3\n"
     ]
    },
    {
     "name": "stderr",
     "output_type": "stream",
     "text": [
      "[2020-03-23 17:51:51,542][_waitingSend:91] Sent: b'{\"command\": \"getTickPrices\", \"symbol\": \"EURGBP\", \"streamSessionId\": \"262540fffee58c68-0000501c-001000c3-31627f555a0b4ad4-3ddf2770\"}'\n",
      "[2020-03-23 17:51:51,643][_waitingSend:91] Sent: b'{\"command\": \"getTickPrices\", \"symbol\": \"EURJPY\", \"streamSessionId\": \"262540fffee58c68-0000501c-001000c3-31627f555a0b4ad4-3ddf2770\"}'\n",
      "[2020-03-23 17:51:51,738][_read:110] Received: {'command': 'tickPrices', 'data': {'symbol': 'EURUSD', 'ask': 1.07765, 'bid': 1.0773, 'high': 1.08267, 'low': 1.06565, 'askVolume': 350000, 'bidVolume': 500000, 'timestamp': 1584985911607, 'level': 0, 'quoteId': 5, 'spreadTable': 3.5, 'spreadRaw': 0.00035}}\n",
      "[2020-03-23 17:51:51,739][_readStream:201] Stream received: {'command': 'tickPrices', 'data': {'symbol': 'EURUSD', 'ask': 1.07765, 'bid': 1.0773, 'high': 1.08267, 'low': 1.06565, 'askVolume': 350000, 'bidVolume': 500000, 'timestamp': 1584985911607, 'level': 0, 'quoteId': 5, 'spreadTable': 3.5, 'spreadRaw': 0.00035}}\n",
      "[2020-03-23 17:51:51,745][_waitingSend:91] Sent: b'{\"command\": \"getProfits\", \"streamSessionId\": \"262540fffee58c68-0000501c-001000c3-31627f555a0b4ad4-3ddf2770\"}'\n"
     ]
    },
    {
     "name": "stdout",
     "output_type": "stream",
     "text": [
      "TICK:  {'command': 'tickPrices', 'data': {'symbol': 'EURUSD', 'ask': 1.07765, 'bid': 1.0773, 'high': 1.08267, 'low': 1.06565, 'askVolume': 350000, 'bidVolume': 500000, 'timestamp': 1584985911607, 'level': 0, 'quoteId': 5, 'spreadTable': 3.5, 'spreadRaw': 0.00035}}\n",
      "4\n",
      "5\n"
     ]
    },
    {
     "name": "stderr",
     "output_type": "stream",
     "text": [
      "[2020-03-23 17:51:51,971][_read:110] Received: {'command': 'tickPrices', 'data': {'symbol': 'EURUSD', 'ask': 1.07766, 'bid': 1.07729, 'high': 1.08267, 'low': 1.06565, 'askVolume': 900000, 'bidVolume': 1000000, 'timestamp': 1584985911607, 'level': 1, 'quoteId': 5, 'spreadTable': 3.7, 'spreadRaw': 0.00037}}\n",
      "[2020-03-23 17:51:51,972][_readStream:201] Stream received: {'command': 'tickPrices', 'data': {'symbol': 'EURUSD', 'ask': 1.07766, 'bid': 1.07729, 'high': 1.08267, 'low': 1.06565, 'askVolume': 900000, 'bidVolume': 1000000, 'timestamp': 1584985911607, 'level': 1, 'quoteId': 5, 'spreadTable': 3.7, 'spreadRaw': 0.00037}}\n"
     ]
    },
    {
     "name": "stdout",
     "output_type": "stream",
     "text": [
      "TICK:  {'command': 'tickPrices', 'data': {'symbol': 'EURUSD', 'ask': 1.07766, 'bid': 1.07729, 'high': 1.08267, 'low': 1.06565, 'askVolume': 900000, 'bidVolume': 1000000, 'timestamp': 1584985911607, 'level': 1, 'quoteId': 5, 'spreadTable': 3.7, 'spreadRaw': 0.00037}}\n"
     ]
    },
    {
     "name": "stderr",
     "output_type": "stream",
     "text": [
      "[2020-03-23 17:51:52,257][_read:110] Received: {'command': 'tickPrices', 'data': {'symbol': 'EURUSD', 'ask': 1.07769, 'bid': 1.07726, 'high': 1.08267, 'low': 1.06565, 'askVolume': 800000, 'bidVolume': 800000, 'timestamp': 1584985911607, 'level': 2, 'quoteId': 5, 'spreadTable': 4.3, 'spreadRaw': 0.00043}}\n",
      "[2020-03-23 17:51:52,258][_readStream:201] Stream received: {'command': 'tickPrices', 'data': {'symbol': 'EURUSD', 'ask': 1.07769, 'bid': 1.07726, 'high': 1.08267, 'low': 1.06565, 'askVolume': 800000, 'bidVolume': 800000, 'timestamp': 1584985911607, 'level': 2, 'quoteId': 5, 'spreadTable': 4.3, 'spreadRaw': 0.00043}}\n",
      "[2020-03-23 17:51:52,259][_read:110] Received: {'command': 'tickPrices', 'data': {'symbol': 'EURUSD', 'ask': 1.07776, 'bid': 1.07719, 'high': 1.08267, 'low': 1.06565, 'askVolume': 4000000, 'bidVolume': 3000000, 'timestamp': 1584985911607, 'level': 3, 'quoteId': 5, 'spreadTable': 5.7, 'spreadRaw': 0.00057}}\n",
      "[2020-03-23 17:51:52,259][_readStream:201] Stream received: {'command': 'tickPrices', 'data': {'symbol': 'EURUSD', 'ask': 1.07776, 'bid': 1.07719, 'high': 1.08267, 'low': 1.06565, 'askVolume': 4000000, 'bidVolume': 3000000, 'timestamp': 1584985911607, 'level': 3, 'quoteId': 5, 'spreadTable': 5.7, 'spreadRaw': 0.00057}}\n",
      "[2020-03-23 17:51:52,335][_read:110] Received: {'command': 'tickPrices', 'data': {'symbol': 'EURUSD', 'ask': 1.07785, 'bid': 1.0771, 'high': 1.08267, 'low': 1.06565, 'askVolume': 3000000, 'bidVolume': 3500000, 'timestamp': 1584985911607, 'level': 4, 'quoteId': 5, 'spreadTable': 7.5, 'spreadRaw': 0.00075}}\n",
      "[2020-03-23 17:51:52,336][_readStream:201] Stream received: {'command': 'tickPrices', 'data': {'symbol': 'EURUSD', 'ask': 1.07785, 'bid': 1.0771, 'high': 1.08267, 'low': 1.06565, 'askVolume': 3000000, 'bidVolume': 3500000, 'timestamp': 1584985911607, 'level': 4, 'quoteId': 5, 'spreadTable': 7.5, 'spreadRaw': 0.00075}}\n",
      "[2020-03-23 17:51:52,378][_read:110] Received: {'command': 'tickPrices', 'data': {'symbol': 'EURUSD', 'ask': 1.07766, 'bid': 1.07732, 'high': 1.08267, 'low': 1.06565, 'askVolume': 500000, 'bidVolume': 350000, 'timestamp': 1584985911845, 'level': 0, 'quoteId': 5, 'spreadTable': 3.4, 'spreadRaw': 0.00034}}\n",
      "[2020-03-23 17:51:52,378][_readStream:201] Stream received: {'command': 'tickPrices', 'data': {'symbol': 'EURUSD', 'ask': 1.07766, 'bid': 1.07732, 'high': 1.08267, 'low': 1.06565, 'askVolume': 500000, 'bidVolume': 350000, 'timestamp': 1584985911845, 'level': 0, 'quoteId': 5, 'spreadTable': 3.4, 'spreadRaw': 0.00034}}\n"
     ]
    },
    {
     "name": "stdout",
     "output_type": "stream",
     "text": [
      "TICK:  {'command': 'tickPrices', 'data': {'symbol': 'EURUSD', 'ask': 1.07769, 'bid': 1.07726, 'high': 1.08267, 'low': 1.06565, 'askVolume': 800000, 'bidVolume': 800000, 'timestamp': 1584985911607, 'level': 2, 'quoteId': 5, 'spreadTable': 4.3, 'spreadRaw': 0.00043}}\n",
      "TICK:  {'command': 'tickPrices', 'data': {'symbol': 'EURUSD', 'ask': 1.07776, 'bid': 1.07719, 'high': 1.08267, 'low': 1.06565, 'askVolume': 4000000, 'bidVolume': 3000000, 'timestamp': 1584985911607, 'level': 3, 'quoteId': 5, 'spreadTable': 5.7, 'spreadRaw': 0.00057}}\n",
      "TICK:  {'command': 'tickPrices', 'data': {'symbol': 'EURUSD', 'ask': 1.07785, 'bid': 1.0771, 'high': 1.08267, 'low': 1.06565, 'askVolume': 3000000, 'bidVolume': 3500000, 'timestamp': 1584985911607, 'level': 4, 'quoteId': 5, 'spreadTable': 7.5, 'spreadRaw': 0.00075}}\n",
      "TICK:  {'command': 'tickPrices', 'data': {'symbol': 'EURUSD', 'ask': 1.07766, 'bid': 1.07732, 'high': 1.08267, 'low': 1.06565, 'askVolume': 500000, 'bidVolume': 350000, 'timestamp': 1584985911845, 'level': 0, 'quoteId': 5, 'spreadTable': 3.4, 'spreadRaw': 0.00034}}\n"
     ]
    },
    {
     "name": "stderr",
     "output_type": "stream",
     "text": [
      "[2020-03-23 17:51:52,558][_read:110] Received: {'command': 'tickPrices', 'data': {'symbol': 'EURUSD', 'ask': 1.07767, 'bid': 1.07731, 'high': 1.08267, 'low': 1.06565, 'askVolume': 700000, 'bidVolume': 1000000, 'timestamp': 1584985911845, 'level': 1, 'quoteId': 5, 'spreadTable': 3.6, 'spreadRaw': 0.00036}}\n",
      "[2020-03-23 17:51:52,559][_readStream:201] Stream received: {'command': 'tickPrices', 'data': {'symbol': 'EURUSD', 'ask': 1.07767, 'bid': 1.07731, 'high': 1.08267, 'low': 1.06565, 'askVolume': 700000, 'bidVolume': 1000000, 'timestamp': 1584985911845, 'level': 1, 'quoteId': 5, 'spreadTable': 3.6, 'spreadRaw': 0.00036}}\n"
     ]
    },
    {
     "name": "stdout",
     "output_type": "stream",
     "text": [
      "TICK:  {'command': 'tickPrices', 'data': {'symbol': 'EURUSD', 'ask': 1.07767, 'bid': 1.07731, 'high': 1.08267, 'low': 1.06565, 'askVolume': 700000, 'bidVolume': 1000000, 'timestamp': 1584985911845, 'level': 1, 'quoteId': 5, 'spreadTable': 3.6, 'spreadRaw': 0.00036}}\n"
     ]
    },
    {
     "name": "stderr",
     "output_type": "stream",
     "text": [
      "[2020-03-23 17:51:52,773][_read:110] Received: {'command': 'tickPrices', 'data': {'symbol': 'EURUSD', 'ask': 1.0777, 'bid': 1.07728, 'high': 1.08267, 'low': 1.06565, 'askVolume': 1100000, 'bidVolume': 1000000, 'timestamp': 1584985911845, 'level': 2, 'quoteId': 5, 'spreadTable': 4.2, 'spreadRaw': 0.00042}}\n",
      "[2020-03-23 17:51:52,774][_readStream:201] Stream received: {'command': 'tickPrices', 'data': {'symbol': 'EURUSD', 'ask': 1.0777, 'bid': 1.07728, 'high': 1.08267, 'low': 1.06565, 'askVolume': 1100000, 'bidVolume': 1000000, 'timestamp': 1584985911845, 'level': 2, 'quoteId': 5, 'spreadTable': 4.2, 'spreadRaw': 0.00042}}\n",
      "[2020-03-23 17:51:52,848][_read:110] Received: {'command': 'tickPrices', 'data': {'symbol': 'EURUSD', 'ask': 1.07777, 'bid': 1.07721, 'high': 1.08267, 'low': 1.06565, 'askVolume': 4500000, 'bidVolume': 3500000, 'timestamp': 1584985911845, 'level': 3, 'quoteId': 5, 'spreadTable': 5.6, 'spreadRaw': 0.00056}}\n",
      "[2020-03-23 17:51:52,849][_readStream:201] Stream received: {'command': 'tickPrices', 'data': {'symbol': 'EURUSD', 'ask': 1.07777, 'bid': 1.07721, 'high': 1.08267, 'low': 1.06565, 'askVolume': 4500000, 'bidVolume': 3500000, 'timestamp': 1584985911845, 'level': 3, 'quoteId': 5, 'spreadTable': 5.6, 'spreadRaw': 0.00056}}\n"
     ]
    },
    {
     "name": "stdout",
     "output_type": "stream",
     "text": [
      "TICK:  {'command': 'tickPrices', 'data': {'symbol': 'EURUSD', 'ask': 1.0777, 'bid': 1.07728, 'high': 1.08267, 'low': 1.06565, 'askVolume': 1100000, 'bidVolume': 1000000, 'timestamp': 1584985911845, 'level': 2, 'quoteId': 5, 'spreadTable': 4.2, 'spreadRaw': 0.00042}}\n",
      "TICK:  {'command': 'tickPrices', 'data': {'symbol': 'EURUSD', 'ask': 1.07777, 'bid': 1.07721, 'high': 1.08267, 'low': 1.06565, 'askVolume': 4500000, 'bidVolume': 3500000, 'timestamp': 1584985911845, 'level': 3, 'quoteId': 5, 'spreadTable': 5.6, 'spreadRaw': 0.00056}}\n"
     ]
    },
    {
     "name": "stderr",
     "output_type": "stream",
     "text": [
      "[2020-03-23 17:51:53,040][_read:110] Received: {'command': 'tickPrices', 'data': {'symbol': 'EURUSD', 'ask': 1.07785, 'bid': 1.07713, 'high': 1.08267, 'low': 1.06565, 'askVolume': 4000000, 'bidVolume': 5000000, 'timestamp': 1584985911845, 'level': 4, 'quoteId': 5, 'spreadTable': 7.2, 'spreadRaw': 0.00072}}\n",
      "[2020-03-23 17:51:53,041][_readStream:201] Stream received: {'command': 'tickPrices', 'data': {'symbol': 'EURUSD', 'ask': 1.07785, 'bid': 1.07713, 'high': 1.08267, 'low': 1.06565, 'askVolume': 4000000, 'bidVolume': 5000000, 'timestamp': 1584985911845, 'level': 4, 'quoteId': 5, 'spreadTable': 7.2, 'spreadRaw': 0.00072}}\n",
      "[2020-03-23 17:51:53,049][_read:110] Received: {'command': 'tickPrices', 'data': {'symbol': 'EURUSD', 'ask': 1.07769, 'bid': 1.07735, 'high': 1.08267, 'low': 1.06565, 'askVolume': 500000, 'bidVolume': 500000, 'timestamp': 1584985912133, 'level': 0, 'quoteId': 5, 'spreadTable': 3.4, 'spreadRaw': 0.00034}}\n",
      "[2020-03-23 17:51:53,049][_readStream:201] Stream received: {'command': 'tickPrices', 'data': {'symbol': 'EURUSD', 'ask': 1.07769, 'bid': 1.07735, 'high': 1.08267, 'low': 1.06565, 'askVolume': 500000, 'bidVolume': 500000, 'timestamp': 1584985912133, 'level': 0, 'quoteId': 5, 'spreadTable': 3.4, 'spreadRaw': 0.00034}}\n"
     ]
    },
    {
     "name": "stdout",
     "output_type": "stream",
     "text": [
      "TICK:  {'command': 'tickPrices', 'data': {'symbol': 'EURUSD', 'ask': 1.07785, 'bid': 1.07713, 'high': 1.08267, 'low': 1.06565, 'askVolume': 4000000, 'bidVolume': 5000000, 'timestamp': 1584985911845, 'level': 4, 'quoteId': 5, 'spreadTable': 7.2, 'spreadRaw': 0.00072}}\n",
      "TICK:  {'command': 'tickPrices', 'data': {'symbol': 'EURUSD', 'ask': 1.07769, 'bid': 1.07735, 'high': 1.08267, 'low': 1.06565, 'askVolume': 500000, 'bidVolume': 500000, 'timestamp': 1584985912133, 'level': 0, 'quoteId': 5, 'spreadTable': 3.4, 'spreadRaw': 0.00034}}\n"
     ]
    },
    {
     "name": "stderr",
     "output_type": "stream",
     "text": [
      "[2020-03-23 17:51:53,303][_read:110] Received: {'command': 'tickPrices', 'data': {'symbol': 'EURUSD', 'ask': 1.0777, 'bid': 1.07734, 'high': 1.08267, 'low': 1.06565, 'askVolume': 1000000, 'bidVolume': 900000, 'timestamp': 1584985912133, 'level': 1, 'quoteId': 5, 'spreadTable': 3.6, 'spreadRaw': 0.00036}}\n",
      "[2020-03-23 17:51:53,304][_readStream:201] Stream received: {'command': 'tickPrices', 'data': {'symbol': 'EURUSD', 'ask': 1.0777, 'bid': 1.07734, 'high': 1.08267, 'low': 1.06565, 'askVolume': 1000000, 'bidVolume': 900000, 'timestamp': 1584985912133, 'level': 1, 'quoteId': 5, 'spreadTable': 3.6, 'spreadRaw': 0.00036}}\n",
      "[2020-03-23 17:51:53,306][_read:110] Received: {'command': 'tickPrices', 'data': {'symbol': 'EURUSD', 'ask': 1.07772, 'bid': 1.07732, 'high': 1.08267, 'low': 1.06565, 'askVolume': 1000000, 'bidVolume': 1200000, 'timestamp': 1584985912133, 'level': 2, 'quoteId': 5, 'spreadTable': 4.0, 'spreadRaw': 0.0004}}\n",
      "[2020-03-23 17:51:53,307][_readStream:201] Stream received: {'command': 'tickPrices', 'data': {'symbol': 'EURUSD', 'ask': 1.07772, 'bid': 1.07732, 'high': 1.08267, 'low': 1.06565, 'askVolume': 1000000, 'bidVolume': 1200000, 'timestamp': 1584985912133, 'level': 2, 'quoteId': 5, 'spreadTable': 4.0, 'spreadRaw': 0.0004}}\n",
      "[2020-03-23 17:51:53,364][_read:110] Received: {'command': 'tickPrices', 'data': {'symbol': 'EURUSD', 'ask': 1.07778, 'bid': 1.07726, 'high': 1.08267, 'low': 1.06565, 'askVolume': 4000000, 'bidVolume': 3000000, 'timestamp': 1584985912133, 'level': 3, 'quoteId': 5, 'spreadTable': 5.2, 'spreadRaw': 0.00052}}\n",
      "[2020-03-23 17:51:53,364][_readStream:201] Stream received: {'command': 'tickPrices', 'data': {'symbol': 'EURUSD', 'ask': 1.07778, 'bid': 1.07726, 'high': 1.08267, 'low': 1.06565, 'askVolume': 4000000, 'bidVolume': 3000000, 'timestamp': 1584985912133, 'level': 3, 'quoteId': 5, 'spreadTable': 5.2, 'spreadRaw': 0.00052}}\n"
     ]
    },
    {
     "name": "stdout",
     "output_type": "stream",
     "text": [
      "TICK:  {'command': 'tickPrices', 'data': {'symbol': 'EURUSD', 'ask': 1.0777, 'bid': 1.07734, 'high': 1.08267, 'low': 1.06565, 'askVolume': 1000000, 'bidVolume': 900000, 'timestamp': 1584985912133, 'level': 1, 'quoteId': 5, 'spreadTable': 3.6, 'spreadRaw': 0.00036}}\n",
      "TICK:  {'command': 'tickPrices', 'data': {'symbol': 'EURUSD', 'ask': 1.07772, 'bid': 1.07732, 'high': 1.08267, 'low': 1.06565, 'askVolume': 1000000, 'bidVolume': 1200000, 'timestamp': 1584985912133, 'level': 2, 'quoteId': 5, 'spreadTable': 4.0, 'spreadRaw': 0.0004}}\n",
      "TICK:  {'command': 'tickPrices', 'data': {'symbol': 'EURUSD', 'ask': 1.07778, 'bid': 1.07726, 'high': 1.08267, 'low': 1.06565, 'askVolume': 4000000, 'bidVolume': 3000000, 'timestamp': 1584985912133, 'level': 3, 'quoteId': 5, 'spreadTable': 5.2, 'spreadRaw': 0.00052}}\n"
     ]
    },
    {
     "name": "stderr",
     "output_type": "stream",
     "text": [
      "[2020-03-23 17:51:53,557][_read:110] Received: {'command': 'tickPrices', 'data': {'symbol': 'EURUSD', 'ask': 1.07786, 'bid': 1.07718, 'high': 1.08267, 'low': 1.06565, 'askVolume': 3000000, 'bidVolume': 3000000, 'timestamp': 1584985912133, 'level': 4, 'quoteId': 5, 'spreadTable': 6.8, 'spreadRaw': 0.00068}}\n",
      "[2020-03-23 17:51:53,558][_readStream:201] Stream received: {'command': 'tickPrices', 'data': {'symbol': 'EURUSD', 'ask': 1.07786, 'bid': 1.07718, 'high': 1.08267, 'low': 1.06565, 'askVolume': 3000000, 'bidVolume': 3000000, 'timestamp': 1584985912133, 'level': 4, 'quoteId': 5, 'spreadTable': 6.8, 'spreadRaw': 0.00068}}\n",
      "[2020-03-23 17:51:53,671][_read:110] Received: {'command': 'tickPrices', 'data': {'symbol': 'EURJPY', 'ask': 119.86, 'bid': 119.789, 'high': 119.905, 'low': 117.696, 'askVolume': 500000, 'bidVolume': 450000, 'timestamp': 1584985912194, 'level': 0, 'quoteId': 5, 'spreadTable': 7.1, 'spreadRaw': 0.071}}\n",
      "[2020-03-23 17:51:53,672][_readStream:201] Stream received: {'command': 'tickPrices', 'data': {'symbol': 'EURJPY', 'ask': 119.86, 'bid': 119.789, 'high': 119.905, 'low': 117.696, 'askVolume': 500000, 'bidVolume': 450000, 'timestamp': 1584985912194, 'level': 0, 'quoteId': 5, 'spreadTable': 7.1, 'spreadRaw': 0.071}}\n"
     ]
    },
    {
     "name": "stdout",
     "output_type": "stream",
     "text": [
      "TICK:  {'command': 'tickPrices', 'data': {'symbol': 'EURUSD', 'ask': 1.07786, 'bid': 1.07718, 'high': 1.08267, 'low': 1.06565, 'askVolume': 3000000, 'bidVolume': 3000000, 'timestamp': 1584985912133, 'level': 4, 'quoteId': 5, 'spreadTable': 6.8, 'spreadRaw': 0.00068}}\n",
      "TICK:  {'command': 'tickPrices', 'data': {'symbol': 'EURJPY', 'ask': 119.86, 'bid': 119.789, 'high': 119.905, 'low': 117.696, 'askVolume': 500000, 'bidVolume': 450000, 'timestamp': 1584985912194, 'level': 0, 'quoteId': 5, 'spreadTable': 7.1, 'spreadRaw': 0.071}}\n"
     ]
    },
    {
     "name": "stderr",
     "output_type": "stream",
     "text": [
      "[2020-03-23 17:51:53,832][_read:110] Received: {'command': 'tickPrices', 'data': {'symbol': 'EURJPY', 'ask': 119.859, 'bid': 119.786, 'high': 119.905, 'low': 117.696, 'askVolume': 1000000, 'bidVolume': 1000000, 'timestamp': 1584985912194, 'level': 1, 'quoteId': 5, 'spreadTable': 7.3, 'spreadRaw': 0.073}}\n",
      "[2020-03-23 17:51:53,832][_readStream:201] Stream received: {'command': 'tickPrices', 'data': {'symbol': 'EURJPY', 'ask': 119.859, 'bid': 119.786, 'high': 119.905, 'low': 117.696, 'askVolume': 1000000, 'bidVolume': 1000000, 'timestamp': 1584985912194, 'level': 1, 'quoteId': 5, 'spreadTable': 7.3, 'spreadRaw': 0.073}}\n",
      "[2020-03-23 17:51:53,889][_read:110] Received: {'command': 'tickPrices', 'data': {'symbol': 'EURJPY', 'ask': 119.862, 'bid': 119.783, 'high': 119.905, 'low': 117.696, 'askVolume': 1000000, 'bidVolume': 1200000, 'timestamp': 1584985912194, 'level': 2, 'quoteId': 5, 'spreadTable': 7.9, 'spreadRaw': 0.079}}\n",
      "[2020-03-23 17:51:53,890][_readStream:201] Stream received: {'command': 'tickPrices', 'data': {'symbol': 'EURJPY', 'ask': 119.862, 'bid': 119.783, 'high': 119.905, 'low': 117.696, 'askVolume': 1000000, 'bidVolume': 1200000, 'timestamp': 1584985912194, 'level': 2, 'quoteId': 5, 'spreadTable': 7.9, 'spreadRaw': 0.079}}\n"
     ]
    },
    {
     "name": "stdout",
     "output_type": "stream",
     "text": [
      "TICK:  {'command': 'tickPrices', 'data': {'symbol': 'EURJPY', 'ask': 119.859, 'bid': 119.786, 'high': 119.905, 'low': 117.696, 'askVolume': 1000000, 'bidVolume': 1000000, 'timestamp': 1584985912194, 'level': 1, 'quoteId': 5, 'spreadTable': 7.3, 'spreadRaw': 0.073}}\n",
      "TICK:  {'command': 'tickPrices', 'data': {'symbol': 'EURJPY', 'ask': 119.862, 'bid': 119.783, 'high': 119.905, 'low': 117.696, 'askVolume': 1000000, 'bidVolume': 1200000, 'timestamp': 1584985912194, 'level': 2, 'quoteId': 5, 'spreadTable': 7.9, 'spreadRaw': 0.079}}\n"
     ]
    },
    {
     "name": "stderr",
     "output_type": "stream",
     "text": [
      "[2020-03-23 17:51:54,147][_read:110] Received: {'command': 'tickPrices', 'data': {'symbol': 'EURJPY', 'ask': 119.867, 'bid': 119.778, 'high': 119.905, 'low': 117.696, 'askVolume': 900000, 'bidVolume': 1200000, 'timestamp': 1584985912194, 'level': 3, 'quoteId': 5, 'spreadTable': 8.9, 'spreadRaw': 0.089}}\n",
      "[2020-03-23 17:51:54,147][_readStream:201] Stream received: {'command': 'tickPrices', 'data': {'symbol': 'EURJPY', 'ask': 119.867, 'bid': 119.778, 'high': 119.905, 'low': 117.696, 'askVolume': 900000, 'bidVolume': 1200000, 'timestamp': 1584985912194, 'level': 3, 'quoteId': 5, 'spreadTable': 8.9, 'spreadRaw': 0.089}}\n",
      "[2020-03-23 17:51:54,224][_read:110] Received: {'command': 'tickPrices', 'data': {'symbol': 'EURJPY', 'ask': 119.88, 'bid': 119.769, 'high': 119.905, 'low': 117.696, 'askVolume': 2500000, 'bidVolume': 3000000, 'timestamp': 1584985912194, 'level': 4, 'quoteId': 5, 'spreadTable': 11.1, 'spreadRaw': 0.111}}\n",
      "[2020-03-23 17:51:54,225][_readStream:201] Stream received: {'command': 'tickPrices', 'data': {'symbol': 'EURJPY', 'ask': 119.88, 'bid': 119.769, 'high': 119.905, 'low': 117.696, 'askVolume': 2500000, 'bidVolume': 3000000, 'timestamp': 1584985912194, 'level': 4, 'quoteId': 5, 'spreadTable': 11.1, 'spreadRaw': 0.111}}\n",
      "[2020-03-23 17:51:54,335][_read:110] Received: {'command': 'tickPrices', 'data': {'symbol': 'EURGBP', 'ask': 0.9332, 'bid': 0.9324, 'high': 0.93845, 'low': 0.9154, 'askVolume': 500000, 'bidVolume': 400000, 'timestamp': 1584985912252, 'level': 0, 'quoteId': 5, 'spreadTable': 8.0, 'spreadRaw': 0.0008}}\n",
      "[2020-03-23 17:51:54,335][_readStream:201] Stream received: {'command': 'tickPrices', 'data': {'symbol': 'EURGBP', 'ask': 0.9332, 'bid': 0.9324, 'high': 0.93845, 'low': 0.9154, 'askVolume': 500000, 'bidVolume': 400000, 'timestamp': 1584985912252, 'level': 0, 'quoteId': 5, 'spreadTable': 8.0, 'spreadRaw': 0.0008}}\n",
      "[2020-03-23 17:51:54,336][_read:110] Received: {'command': 'tickPrices', 'data': {'symbol': 'EURGBP', 'ask': 0.93322, 'bid': 0.93238, 'high': 0.93845, 'low': 0.9154, 'askVolume': 900000, 'bidVolume': 900000, 'timestamp': 1584985912252, 'level': 1, 'quoteId': 5, 'spreadTable': 8.4, 'spreadRaw': 0.00084}}\n",
      "[2020-03-23 17:51:54,338][_readStream:201] Stream received: {'command': 'tickPrices', 'data': {'symbol': 'EURGBP', 'ask': 0.93322, 'bid': 0.93238, 'high': 0.93845, 'low': 0.9154, 'askVolume': 900000, 'bidVolume': 900000, 'timestamp': 1584985912252, 'level': 1, 'quoteId': 5, 'spreadTable': 8.4, 'spreadRaw': 0.00084}}\n",
      "[2020-03-23 17:51:54,339][_read:110] Received: {'command': 'tickPrices', 'data': {'symbol': 'EURGBP', 'ask': 0.93325, 'bid': 0.93235, 'high': 0.93845, 'low': 0.9154, 'askVolume': 1000000, 'bidVolume': 800000, 'timestamp': 1584985912252, 'level': 2, 'quoteId': 5, 'spreadTable': 9.0, 'spreadRaw': 0.0009}}\n",
      "[2020-03-23 17:51:54,340][_readStream:201] Stream received: {'command': 'tickPrices', 'data': {'symbol': 'EURGBP', 'ask': 0.93325, 'bid': 0.93235, 'high': 0.93845, 'low': 0.9154, 'askVolume': 1000000, 'bidVolume': 800000, 'timestamp': 1584985912252, 'level': 2, 'quoteId': 5, 'spreadTable': 9.0, 'spreadRaw': 0.0009}}\n"
     ]
    },
    {
     "name": "stdout",
     "output_type": "stream",
     "text": [
      "TICK:  {'command': 'tickPrices', 'data': {'symbol': 'EURJPY', 'ask': 119.867, 'bid': 119.778, 'high': 119.905, 'low': 117.696, 'askVolume': 900000, 'bidVolume': 1200000, 'timestamp': 1584985912194, 'level': 3, 'quoteId': 5, 'spreadTable': 8.9, 'spreadRaw': 0.089}}\n",
      "TICK:  {'command': 'tickPrices', 'data': {'symbol': 'EURJPY', 'ask': 119.88, 'bid': 119.769, 'high': 119.905, 'low': 117.696, 'askVolume': 2500000, 'bidVolume': 3000000, 'timestamp': 1584985912194, 'level': 4, 'quoteId': 5, 'spreadTable': 11.1, 'spreadRaw': 0.111}}\n",
      "TICK:  {'command': 'tickPrices', 'data': {'symbol': 'EURGBP', 'ask': 0.9332, 'bid': 0.9324, 'high': 0.93845, 'low': 0.9154, 'askVolume': 500000, 'bidVolume': 400000, 'timestamp': 1584985912252, 'level': 0, 'quoteId': 5, 'spreadTable': 8.0, 'spreadRaw': 0.0008}}\n",
      "TICK:  {'command': 'tickPrices', 'data': {'symbol': 'EURGBP', 'ask': 0.93322, 'bid': 0.93238, 'high': 0.93845, 'low': 0.9154, 'askVolume': 900000, 'bidVolume': 900000, 'timestamp': 1584985912252, 'level': 1, 'quoteId': 5, 'spreadTable': 8.4, 'spreadRaw': 0.00084}}\n",
      "TICK:  {'command': 'tickPrices', 'data': {'symbol': 'EURGBP', 'ask': 0.93325, 'bid': 0.93235, 'high': 0.93845, 'low': 0.9154, 'askVolume': 1000000, 'bidVolume': 800000, 'timestamp': 1584985912252, 'level': 2, 'quoteId': 5, 'spreadTable': 9.0, 'spreadRaw': 0.0009}}\n"
     ]
    },
    {
     "name": "stderr",
     "output_type": "stream",
     "text": [
      "[2020-03-23 17:51:54,504][_read:110] Received: {'command': 'tickPrices', 'data': {'symbol': 'EURGBP', 'ask': 0.93331, 'bid': 0.93229, 'high': 0.93845, 'low': 0.9154, 'askVolume': 1200000, 'bidVolume': 800000, 'timestamp': 1584985912252, 'level': 3, 'quoteId': 5, 'spreadTable': 10.2, 'spreadRaw': 0.00102}}\n",
      "[2020-03-23 17:51:54,504][_readStream:201] Stream received: {'command': 'tickPrices', 'data': {'symbol': 'EURGBP', 'ask': 0.93331, 'bid': 0.93229, 'high': 0.93845, 'low': 0.9154, 'askVolume': 1200000, 'bidVolume': 800000, 'timestamp': 1584985912252, 'level': 3, 'quoteId': 5, 'spreadTable': 10.2, 'spreadRaw': 0.00102}}\n",
      "[2020-03-23 17:51:54,505][_read:110] Received: {'command': 'tickPrices', 'data': {'symbol': 'EURGBP', 'ask': 0.9334, 'bid': 0.9322, 'high': 0.93845, 'low': 0.9154, 'askVolume': 2500000, 'bidVolume': 2000000, 'timestamp': 1584985912252, 'level': 4, 'quoteId': 5, 'spreadTable': 12.0, 'spreadRaw': 0.0012}}\n",
      "[2020-03-23 17:51:54,506][_readStream:201] Stream received: {'command': 'tickPrices', 'data': {'symbol': 'EURGBP', 'ask': 0.9334, 'bid': 0.9322, 'high': 0.93845, 'low': 0.9154, 'askVolume': 2500000, 'bidVolume': 2000000, 'timestamp': 1584985912252, 'level': 4, 'quoteId': 5, 'spreadTable': 12.0, 'spreadRaw': 0.0012}}\n",
      "[2020-03-23 17:51:54,561][_read:110] Received: {'command': 'tickPrices', 'data': {'symbol': 'EURUSD', 'ask': 1.07769, 'bid': 1.07735, 'high': 1.08267, 'low': 1.06565, 'askVolume': 350000, 'bidVolume': 350000, 'timestamp': 1584985912433, 'level': 0, 'quoteId': 5, 'spreadTable': 3.4, 'spreadRaw': 0.00034}}\n",
      "[2020-03-23 17:51:54,562][_readStream:201] Stream received: {'command': 'tickPrices', 'data': {'symbol': 'EURUSD', 'ask': 1.07769, 'bid': 1.07735, 'high': 1.08267, 'low': 1.06565, 'askVolume': 350000, 'bidVolume': 350000, 'timestamp': 1584985912433, 'level': 0, 'quoteId': 5, 'spreadTable': 3.4, 'spreadRaw': 0.00034}}\n",
      "[2020-03-23 17:51:54,685][_read:110] Received: {'command': 'tickPrices', 'data': {'symbol': 'EURUSD', 'ask': 1.07772, 'bid': 1.07732, 'high': 1.08267, 'low': 1.06565, 'askVolume': 1200000, 'bidVolume': 900000, 'timestamp': 1584985912433, 'level': 1, 'quoteId': 5, 'spreadTable': 4.0, 'spreadRaw': 0.0004}}\n",
      "[2020-03-23 17:51:54,686][_readStream:201] Stream received: {'command': 'tickPrices', 'data': {'symbol': 'EURUSD', 'ask': 1.07772, 'bid': 1.07732, 'high': 1.08267, 'low': 1.06565, 'askVolume': 1200000, 'bidVolume': 900000, 'timestamp': 1584985912433, 'level': 1, 'quoteId': 5, 'spreadTable': 4.0, 'spreadRaw': 0.0004}}\n"
     ]
    },
    {
     "name": "stdout",
     "output_type": "stream",
     "text": [
      "TICK:  {'command': 'tickPrices', 'data': {'symbol': 'EURGBP', 'ask': 0.93331, 'bid': 0.93229, 'high': 0.93845, 'low': 0.9154, 'askVolume': 1200000, 'bidVolume': 800000, 'timestamp': 1584985912252, 'level': 3, 'quoteId': 5, 'spreadTable': 10.2, 'spreadRaw': 0.00102}}\n",
      "TICK:  {'command': 'tickPrices', 'data': {'symbol': 'EURGBP', 'ask': 0.9334, 'bid': 0.9322, 'high': 0.93845, 'low': 0.9154, 'askVolume': 2500000, 'bidVolume': 2000000, 'timestamp': 1584985912252, 'level': 4, 'quoteId': 5, 'spreadTable': 12.0, 'spreadRaw': 0.0012}}\n",
      "TICK:  {'command': 'tickPrices', 'data': {'symbol': 'EURUSD', 'ask': 1.07769, 'bid': 1.07735, 'high': 1.08267, 'low': 1.06565, 'askVolume': 350000, 'bidVolume': 350000, 'timestamp': 1584985912433, 'level': 0, 'quoteId': 5, 'spreadTable': 3.4, 'spreadRaw': 0.00034}}\n",
      "TICK:  {'command': 'tickPrices', 'data': {'symbol': 'EURUSD', 'ask': 1.07772, 'bid': 1.07732, 'high': 1.08267, 'low': 1.06565, 'askVolume': 1200000, 'bidVolume': 900000, 'timestamp': 1584985912433, 'level': 1, 'quoteId': 5, 'spreadTable': 4.0, 'spreadRaw': 0.0004}}\n"
     ]
    },
    {
     "name": "stderr",
     "output_type": "stream",
     "text": [
      "[2020-03-23 17:51:54,732][_read:110] Received: {'command': 'tickPrices', 'data': {'symbol': 'EURUSD', 'ask': 1.07774, 'bid': 1.0773, 'high': 1.08267, 'low': 1.06565, 'askVolume': 1000000, 'bidVolume': 1000000, 'timestamp': 1584985912433, 'level': 2, 'quoteId': 5, 'spreadTable': 4.4, 'spreadRaw': 0.00044}}\n",
      "[2020-03-23 17:51:54,732][_readStream:201] Stream received: {'command': 'tickPrices', 'data': {'symbol': 'EURUSD', 'ask': 1.07774, 'bid': 1.0773, 'high': 1.08267, 'low': 1.06565, 'askVolume': 1000000, 'bidVolume': 1000000, 'timestamp': 1584985912433, 'level': 2, 'quoteId': 5, 'spreadTable': 4.4, 'spreadRaw': 0.00044}}\n",
      "[2020-03-23 17:51:54,818][_read:110] Received: {'command': 'tickPrices', 'data': {'symbol': 'EURUSD', 'ask': 1.0778, 'bid': 1.07723, 'high': 1.08267, 'low': 1.06565, 'askVolume': 4000000, 'bidVolume': 4500000, 'timestamp': 1584985912433, 'level': 3, 'quoteId': 5, 'spreadTable': 5.7, 'spreadRaw': 0.00057}}\n",
      "[2020-03-23 17:51:54,819][_readStream:201] Stream received: {'command': 'tickPrices', 'data': {'symbol': 'EURUSD', 'ask': 1.0778, 'bid': 1.07723, 'high': 1.08267, 'low': 1.06565, 'askVolume': 4000000, 'bidVolume': 4500000, 'timestamp': 1584985912433, 'level': 3, 'quoteId': 5, 'spreadTable': 5.7, 'spreadRaw': 0.00057}}\n"
     ]
    },
    {
     "name": "stdout",
     "output_type": "stream",
     "text": [
      "TICK:  {'command': 'tickPrices', 'data': {'symbol': 'EURUSD', 'ask': 1.07774, 'bid': 1.0773, 'high': 1.08267, 'low': 1.06565, 'askVolume': 1000000, 'bidVolume': 1000000, 'timestamp': 1584985912433, 'level': 2, 'quoteId': 5, 'spreadTable': 4.4, 'spreadRaw': 0.00044}}\n",
      "TICK:  {'command': 'tickPrices', 'data': {'symbol': 'EURUSD', 'ask': 1.0778, 'bid': 1.07723, 'high': 1.08267, 'low': 1.06565, 'askVolume': 4000000, 'bidVolume': 4500000, 'timestamp': 1584985912433, 'level': 3, 'quoteId': 5, 'spreadTable': 5.7, 'spreadRaw': 0.00057}}\n"
     ]
    },
    {
     "name": "stderr",
     "output_type": "stream",
     "text": [
      "[2020-03-23 17:51:54,977][_read:110] Received: {'command': 'tickPrices', 'data': {'symbol': 'EURUSD', 'ask': 1.0779, 'bid': 1.07713, 'high': 1.08267, 'low': 1.06565, 'askVolume': 3500000, 'bidVolume': 4000000, 'timestamp': 1584985912433, 'level': 4, 'quoteId': 5, 'spreadTable': 7.7, 'spreadRaw': 0.00077}}\n",
      "[2020-03-23 17:51:54,977][_readStream:201] Stream received: {'command': 'tickPrices', 'data': {'symbol': 'EURUSD', 'ask': 1.0779, 'bid': 1.07713, 'high': 1.08267, 'low': 1.06565, 'askVolume': 3500000, 'bidVolume': 4000000, 'timestamp': 1584985912433, 'level': 4, 'quoteId': 5, 'spreadTable': 7.7, 'spreadRaw': 0.00077}}\n",
      "[2020-03-23 17:51:55,045][_read:110] Received: {'command': 'tickPrices', 'data': {'symbol': 'EURUSD', 'ask': 1.07767, 'bid': 1.07732, 'high': 1.08267, 'low': 1.06565, 'askVolume': 300000, 'bidVolume': 450000, 'timestamp': 1584985912648, 'level': 0, 'quoteId': 5, 'spreadTable': 3.5, 'spreadRaw': 0.00035}}\n",
      "[2020-03-23 17:51:55,046][_readStream:201] Stream received: {'command': 'tickPrices', 'data': {'symbol': 'EURUSD', 'ask': 1.07767, 'bid': 1.07732, 'high': 1.08267, 'low': 1.06565, 'askVolume': 300000, 'bidVolume': 450000, 'timestamp': 1584985912648, 'level': 0, 'quoteId': 5, 'spreadTable': 3.5, 'spreadRaw': 0.00035}}\n"
     ]
    },
    {
     "name": "stdout",
     "output_type": "stream",
     "text": [
      "TICK:  {'command': 'tickPrices', 'data': {'symbol': 'EURUSD', 'ask': 1.0779, 'bid': 1.07713, 'high': 1.08267, 'low': 1.06565, 'askVolume': 3500000, 'bidVolume': 4000000, 'timestamp': 1584985912433, 'level': 4, 'quoteId': 5, 'spreadTable': 7.7, 'spreadRaw': 0.00077}}\n",
      "TICK:  {'command': 'tickPrices', 'data': {'symbol': 'EURUSD', 'ask': 1.07767, 'bid': 1.07732, 'high': 1.08267, 'low': 1.06565, 'askVolume': 300000, 'bidVolume': 450000, 'timestamp': 1584985912648, 'level': 0, 'quoteId': 5, 'spreadTable': 3.5, 'spreadRaw': 0.00035}}\n"
     ]
    },
    {
     "name": "stderr",
     "output_type": "stream",
     "text": [
      "[2020-03-23 17:51:55,309][_read:110] Received: {'command': 'tickPrices', 'data': {'symbol': 'EURUSD', 'ask': 1.0777, 'bid': 1.07729, 'high': 1.08267, 'low': 1.06565, 'askVolume': 1000000, 'bidVolume': 700000, 'timestamp': 1584985912648, 'level': 1, 'quoteId': 5, 'spreadTable': 4.1, 'spreadRaw': 0.00041}}\n",
      "[2020-03-23 17:51:55,310][_readStream:201] Stream received: {'command': 'tickPrices', 'data': {'symbol': 'EURUSD', 'ask': 1.0777, 'bid': 1.07729, 'high': 1.08267, 'low': 1.06565, 'askVolume': 1000000, 'bidVolume': 700000, 'timestamp': 1584985912648, 'level': 1, 'quoteId': 5, 'spreadTable': 4.1, 'spreadRaw': 0.00041}}\n",
      "[2020-03-23 17:51:55,346][_read:110] Received: {'command': 'tickPrices', 'data': {'symbol': 'EURUSD', 'ask': 1.07773, 'bid': 1.07726, 'high': 1.08267, 'low': 1.06565, 'askVolume': 900000, 'bidVolume': 1200000, 'timestamp': 1584985912648, 'level': 2, 'quoteId': 5, 'spreadTable': 4.7, 'spreadRaw': 0.00047}}\n",
      "[2020-03-23 17:51:55,347][_readStream:201] Stream received: {'command': 'tickPrices', 'data': {'symbol': 'EURUSD', 'ask': 1.07773, 'bid': 1.07726, 'high': 1.08267, 'low': 1.06565, 'askVolume': 900000, 'bidVolume': 1200000, 'timestamp': 1584985912648, 'level': 2, 'quoteId': 5, 'spreadTable': 4.7, 'spreadRaw': 0.00047}}\n"
     ]
    },
    {
     "name": "stdout",
     "output_type": "stream",
     "text": [
      "TICK:  {'command': 'tickPrices', 'data': {'symbol': 'EURUSD', 'ask': 1.0777, 'bid': 1.07729, 'high': 1.08267, 'low': 1.06565, 'askVolume': 1000000, 'bidVolume': 700000, 'timestamp': 1584985912648, 'level': 1, 'quoteId': 5, 'spreadTable': 4.1, 'spreadRaw': 0.00041}}\n",
      "TICK:  {'command': 'tickPrices', 'data': {'symbol': 'EURUSD', 'ask': 1.07773, 'bid': 1.07726, 'high': 1.08267, 'low': 1.06565, 'askVolume': 900000, 'bidVolume': 1200000, 'timestamp': 1584985912648, 'level': 2, 'quoteId': 5, 'spreadTable': 4.7, 'spreadRaw': 0.00047}}\n"
     ]
    },
    {
     "name": "stderr",
     "output_type": "stream",
     "text": [
      "[2020-03-23 17:51:55,522][_read:110] Received: {'command': 'tickPrices', 'data': {'symbol': 'EURUSD', 'ask': 1.07779, 'bid': 1.0772, 'high': 1.08267, 'low': 1.06565, 'askVolume': 3500000, 'bidVolume': 4000000, 'timestamp': 1584985912648, 'level': 3, 'quoteId': 5, 'spreadTable': 5.9, 'spreadRaw': 0.00059}}\n",
      "[2020-03-23 17:51:55,524][_readStream:201] Stream received: {'command': 'tickPrices', 'data': {'symbol': 'EURUSD', 'ask': 1.07779, 'bid': 1.0772, 'high': 1.08267, 'low': 1.06565, 'askVolume': 3500000, 'bidVolume': 4000000, 'timestamp': 1584985912648, 'level': 3, 'quoteId': 5, 'spreadTable': 5.9, 'spreadRaw': 0.00059}}\n",
      "[2020-03-23 17:51:55,524][_read:110] Received: {'command': 'tickPrices', 'data': {'symbol': 'EURUSD', 'ask': 1.07788, 'bid': 1.07711, 'high': 1.08267, 'low': 1.06565, 'askVolume': 5000000, 'bidVolume': 3000000, 'timestamp': 1584985912648, 'level': 4, 'quoteId': 5, 'spreadTable': 7.7, 'spreadRaw': 0.00077}}\n",
      "[2020-03-23 17:51:55,525][_readStream:201] Stream received: {'command': 'tickPrices', 'data': {'symbol': 'EURUSD', 'ask': 1.07788, 'bid': 1.07711, 'high': 1.08267, 'low': 1.06565, 'askVolume': 5000000, 'bidVolume': 3000000, 'timestamp': 1584985912648, 'level': 4, 'quoteId': 5, 'spreadTable': 7.7, 'spreadRaw': 0.00077}}\n",
      "[2020-03-23 17:51:55,526][_read:110] Received: {'command': 'tickPrices', 'data': {'symbol': 'EURJPY', 'ask': 119.847, 'bid': 119.785, 'high': 119.905, 'low': 117.696, 'askVolume': 450000, 'bidVolume': 450000, 'timestamp': 1584985912722, 'level': 0, 'quoteId': 5, 'spreadTable': 6.2, 'spreadRaw': 0.062}}\n",
      "[2020-03-23 17:51:55,527][_readStream:201] Stream received: {'command': 'tickPrices', 'data': {'symbol': 'EURJPY', 'ask': 119.847, 'bid': 119.785, 'high': 119.905, 'low': 117.696, 'askVolume': 450000, 'bidVolume': 450000, 'timestamp': 1584985912722, 'level': 0, 'quoteId': 5, 'spreadTable': 6.2, 'spreadRaw': 0.062}}\n",
      "[2020-03-23 17:51:55,580][_read:110] Received: {'command': 'tickPrices', 'data': {'symbol': 'EURJPY', 'ask': 119.85, 'bid': 119.782, 'high': 119.905, 'low': 117.696, 'askVolume': 1000000, 'bidVolume': 900000, 'timestamp': 1584985912722, 'level': 1, 'quoteId': 5, 'spreadTable': 6.8, 'spreadRaw': 0.068}}\n",
      "[2020-03-23 17:51:55,581][_readStream:201] Stream received: {'command': 'tickPrices', 'data': {'symbol': 'EURJPY', 'ask': 119.85, 'bid': 119.782, 'high': 119.905, 'low': 117.696, 'askVolume': 1000000, 'bidVolume': 900000, 'timestamp': 1584985912722, 'level': 1, 'quoteId': 5, 'spreadTable': 6.8, 'spreadRaw': 0.068}}\n"
     ]
    },
    {
     "name": "stdout",
     "output_type": "stream",
     "text": [
      "TICK:  {'command': 'tickPrices', 'data': {'symbol': 'EURUSD', 'ask': 1.07779, 'bid': 1.0772, 'high': 1.08267, 'low': 1.06565, 'askVolume': 3500000, 'bidVolume': 4000000, 'timestamp': 1584985912648, 'level': 3, 'quoteId': 5, 'spreadTable': 5.9, 'spreadRaw': 0.00059}}\n",
      "TICK:  {'command': 'tickPrices', 'data': {'symbol': 'EURUSD', 'ask': 1.07788, 'bid': 1.07711, 'high': 1.08267, 'low': 1.06565, 'askVolume': 5000000, 'bidVolume': 3000000, 'timestamp': 1584985912648, 'level': 4, 'quoteId': 5, 'spreadTable': 7.7, 'spreadRaw': 0.00077}}\n",
      "TICK:  {'command': 'tickPrices', 'data': {'symbol': 'EURJPY', 'ask': 119.847, 'bid': 119.785, 'high': 119.905, 'low': 117.696, 'askVolume': 450000, 'bidVolume': 450000, 'timestamp': 1584985912722, 'level': 0, 'quoteId': 5, 'spreadTable': 6.2, 'spreadRaw': 0.062}}\n",
      "TICK:  {'command': 'tickPrices', 'data': {'symbol': 'EURJPY', 'ask': 119.85, 'bid': 119.782, 'high': 119.905, 'low': 117.696, 'askVolume': 1000000, 'bidVolume': 900000, 'timestamp': 1584985912722, 'level': 1, 'quoteId': 5, 'spreadTable': 6.8, 'spreadRaw': 0.068}}\n"
     ]
    },
    {
     "name": "stderr",
     "output_type": "stream",
     "text": [
      "[2020-03-23 17:51:56,130][_read:110] Received: {'command': 'tickPrices', 'data': {'symbol': 'EURJPY', 'ask': 119.853, 'bid': 119.779, 'high': 119.905, 'low': 117.696, 'askVolume': 1200000, 'bidVolume': 1000000, 'timestamp': 1584985912722, 'level': 2, 'quoteId': 5, 'spreadTable': 7.4, 'spreadRaw': 0.074}}\n",
      "[2020-03-23 17:51:56,132][_readStream:201] Stream received: {'command': 'tickPrices', 'data': {'symbol': 'EURJPY', 'ask': 119.853, 'bid': 119.779, 'high': 119.905, 'low': 117.696, 'askVolume': 1200000, 'bidVolume': 1000000, 'timestamp': 1584985912722, 'level': 2, 'quoteId': 5, 'spreadTable': 7.4, 'spreadRaw': 0.074}}\n"
     ]
    },
    {
     "name": "stdout",
     "output_type": "stream",
     "text": [
      "TICK:  {'command': 'tickPrices', 'data': {'symbol': 'EURJPY', 'ask': 119.853, 'bid': 119.779, 'high': 119.905, 'low': 117.696, 'askVolume': 1200000, 'bidVolume': 1000000, 'timestamp': 1584985912722, 'level': 2, 'quoteId': 5, 'spreadTable': 7.4, 'spreadRaw': 0.074}}\n"
     ]
    },
    {
     "name": "stderr",
     "output_type": "stream",
     "text": [
      "[2020-03-23 17:51:56,336][_read:110] Received: {'command': 'tickPrices', 'data': {'symbol': 'EURJPY', 'ask': 119.858, 'bid': 119.77, 'high': 119.905, 'low': 117.696, 'askVolume': 1200000, 'bidVolume': 1200000, 'timestamp': 1584985912722, 'level': 3, 'quoteId': 5, 'spreadTable': 8.8, 'spreadRaw': 0.088}}\n",
      "[2020-03-23 17:51:56,337][_readStream:201] Stream received: {'command': 'tickPrices', 'data': {'symbol': 'EURJPY', 'ask': 119.858, 'bid': 119.77, 'high': 119.905, 'low': 117.696, 'askVolume': 1200000, 'bidVolume': 1200000, 'timestamp': 1584985912722, 'level': 3, 'quoteId': 5, 'spreadTable': 8.8, 'spreadRaw': 0.088}}\n",
      "[2020-03-23 17:51:56,339][_read:110] Received: {'command': 'tickPrices', 'data': {'symbol': 'EURJPY', 'ask': 119.87, 'bid': 119.766, 'high': 119.905, 'low': 117.696, 'askVolume': 4000000, 'bidVolume': 3500000, 'timestamp': 1584985912722, 'level': 4, 'quoteId': 5, 'spreadTable': 10.4, 'spreadRaw': 0.104}}\n",
      "[2020-03-23 17:51:56,340][_readStream:201] Stream received: {'command': 'tickPrices', 'data': {'symbol': 'EURJPY', 'ask': 119.87, 'bid': 119.766, 'high': 119.905, 'low': 117.696, 'askVolume': 4000000, 'bidVolume': 3500000, 'timestamp': 1584985912722, 'level': 4, 'quoteId': 5, 'spreadTable': 10.4, 'spreadRaw': 0.104}}\n",
      "[2020-03-23 17:51:56,342][_read:110] Received: {'command': 'tickPrices', 'data': {'symbol': 'EURUSD', 'ask': 1.07767, 'bid': 1.07732, 'high': 1.08267, 'low': 1.06565, 'askVolume': 300000, 'bidVolume': 350000, 'timestamp': 1584985912870, 'level': 0, 'quoteId': 5, 'spreadTable': 3.5, 'spreadRaw': 0.00035}}\n",
      "[2020-03-23 17:51:56,343][_readStream:201] Stream received: {'command': 'tickPrices', 'data': {'symbol': 'EURUSD', 'ask': 1.07767, 'bid': 1.07732, 'high': 1.08267, 'low': 1.06565, 'askVolume': 300000, 'bidVolume': 350000, 'timestamp': 1584985912870, 'level': 0, 'quoteId': 5, 'spreadTable': 3.5, 'spreadRaw': 0.00035}}\n",
      "[2020-03-23 17:51:56,344][_read:110] Received: {'command': 'tickPrices', 'data': {'symbol': 'EURUSD', 'ask': 1.07768, 'bid': 1.07731, 'high': 1.08267, 'low': 1.06565, 'askVolume': 1000000, 'bidVolume': 800000, 'timestamp': 1584985912870, 'level': 1, 'quoteId': 5, 'spreadTable': 3.7, 'spreadRaw': 0.00037}}\n",
      "[2020-03-23 17:51:56,345][_readStream:201] Stream received: {'command': 'tickPrices', 'data': {'symbol': 'EURUSD', 'ask': 1.07768, 'bid': 1.07731, 'high': 1.08267, 'low': 1.06565, 'askVolume': 1000000, 'bidVolume': 800000, 'timestamp': 1584985912870, 'level': 1, 'quoteId': 5, 'spreadTable': 3.7, 'spreadRaw': 0.00037}}\n",
      "[2020-03-23 17:51:56,346][_read:110] Received: {'command': 'tickPrices', 'data': {'symbol': 'EURUSD', 'ask': 1.0777, 'bid': 1.07728, 'high': 1.08267, 'low': 1.06565, 'askVolume': 1000000, 'bidVolume': 800000, 'timestamp': 1584985912870, 'level': 2, 'quoteId': 5, 'spreadTable': 4.2, 'spreadRaw': 0.00042}}\n",
      "[2020-03-23 17:51:56,348][_readStream:201] Stream received: {'command': 'tickPrices', 'data': {'symbol': 'EURUSD', 'ask': 1.0777, 'bid': 1.07728, 'high': 1.08267, 'low': 1.06565, 'askVolume': 1000000, 'bidVolume': 800000, 'timestamp': 1584985912870, 'level': 2, 'quoteId': 5, 'spreadTable': 4.2, 'spreadRaw': 0.00042}}\n"
     ]
    },
    {
     "name": "stdout",
     "output_type": "stream",
     "text": [
      "TICK:  {'command': 'tickPrices', 'data': {'symbol': 'EURJPY', 'ask': 119.858, 'bid': 119.77, 'high': 119.905, 'low': 117.696, 'askVolume': 1200000, 'bidVolume': 1200000, 'timestamp': 1584985912722, 'level': 3, 'quoteId': 5, 'spreadTable': 8.8, 'spreadRaw': 0.088}}\n",
      "TICK:  {'command': 'tickPrices', 'data': {'symbol': 'EURJPY', 'ask': 119.87, 'bid': 119.766, 'high': 119.905, 'low': 117.696, 'askVolume': 4000000, 'bidVolume': 3500000, 'timestamp': 1584985912722, 'level': 4, 'quoteId': 5, 'spreadTable': 10.4, 'spreadRaw': 0.104}}\n",
      "TICK:  {'command': 'tickPrices', 'data': {'symbol': 'EURUSD', 'ask': 1.07767, 'bid': 1.07732, 'high': 1.08267, 'low': 1.06565, 'askVolume': 300000, 'bidVolume': 350000, 'timestamp': 1584985912870, 'level': 0, 'quoteId': 5, 'spreadTable': 3.5, 'spreadRaw': 0.00035}}\n",
      "TICK:  {'command': 'tickPrices', 'data': {'symbol': 'EURUSD', 'ask': 1.07768, 'bid': 1.07731, 'high': 1.08267, 'low': 1.06565, 'askVolume': 1000000, 'bidVolume': 800000, 'timestamp': 1584985912870, 'level': 1, 'quoteId': 5, 'spreadTable': 3.7, 'spreadRaw': 0.00037}}\n",
      "TICK:  {'command': 'tickPrices', 'data': {'symbol': 'EURUSD', 'ask': 1.0777, 'bid': 1.07728, 'high': 1.08267, 'low': 1.06565, 'askVolume': 1000000, 'bidVolume': 800000, 'timestamp': 1584985912870, 'level': 2, 'quoteId': 5, 'spreadTable': 4.2, 'spreadRaw': 0.00042}}\n"
     ]
    },
    {
     "name": "stderr",
     "output_type": "stream",
     "text": [
      "[2020-03-23 17:51:56,666][_read:110] Received: {'command': 'tickPrices', 'data': {'symbol': 'EURUSD', 'ask': 1.07778, 'bid': 1.07721, 'high': 1.08267, 'low': 1.06565, 'askVolume': 3500000, 'bidVolume': 3000000, 'timestamp': 1584985912870, 'level': 3, 'quoteId': 5, 'spreadTable': 5.7, 'spreadRaw': 0.00057}}\n",
      "[2020-03-23 17:51:56,667][_readStream:201] Stream received: {'command': 'tickPrices', 'data': {'symbol': 'EURUSD', 'ask': 1.07778, 'bid': 1.07721, 'high': 1.08267, 'low': 1.06565, 'askVolume': 3500000, 'bidVolume': 3000000, 'timestamp': 1584985912870, 'level': 3, 'quoteId': 5, 'spreadTable': 5.7, 'spreadRaw': 0.00057}}\n",
      "[2020-03-23 17:51:56,668][_read:110] Received: {'command': 'tickPrices', 'data': {'symbol': 'EURUSD', 'ask': 1.07787, 'bid': 1.07712, 'high': 1.08267, 'low': 1.06565, 'askVolume': 4000000, 'bidVolume': 3500000, 'timestamp': 1584985912870, 'level': 4, 'quoteId': 5, 'spreadTable': 7.5, 'spreadRaw': 0.00075}}\n",
      "[2020-03-23 17:51:56,670][_readStream:201] Stream received: {'command': 'tickPrices', 'data': {'symbol': 'EURUSD', 'ask': 1.07787, 'bid': 1.07712, 'high': 1.08267, 'low': 1.06565, 'askVolume': 4000000, 'bidVolume': 3500000, 'timestamp': 1584985912870, 'level': 4, 'quoteId': 5, 'spreadTable': 7.5, 'spreadRaw': 0.00075}}\n",
      "[2020-03-23 17:51:56,671][_read:110] Received: {'command': 'tickPrices', 'data': {'symbol': 'EURGBP', 'ask': 0.93317, 'bid': 0.93239, 'high': 0.93845, 'low': 0.9154, 'askVolume': 250000, 'bidVolume': 250000, 'timestamp': 1584985912919, 'level': 0, 'quoteId': 5, 'spreadTable': 7.8, 'spreadRaw': 0.00078}}\n",
      "[2020-03-23 17:51:56,672][_readStream:201] Stream received: {'command': 'tickPrices', 'data': {'symbol': 'EURGBP', 'ask': 0.93317, 'bid': 0.93239, 'high': 0.93845, 'low': 0.9154, 'askVolume': 250000, 'bidVolume': 250000, 'timestamp': 1584985912919, 'level': 0, 'quoteId': 5, 'spreadTable': 7.8, 'spreadRaw': 0.00078}}\n"
     ]
    },
    {
     "name": "stdout",
     "output_type": "stream",
     "text": [
      "TICK:  {'command': 'tickPrices', 'data': {'symbol': 'EURUSD', 'ask': 1.07778, 'bid': 1.07721, 'high': 1.08267, 'low': 1.06565, 'askVolume': 3500000, 'bidVolume': 3000000, 'timestamp': 1584985912870, 'level': 3, 'quoteId': 5, 'spreadTable': 5.7, 'spreadRaw': 0.00057}}\n",
      "TICK:  {'command': 'tickPrices', 'data': {'symbol': 'EURUSD', 'ask': 1.07787, 'bid': 1.07712, 'high': 1.08267, 'low': 1.06565, 'askVolume': 4000000, 'bidVolume': 3500000, 'timestamp': 1584985912870, 'level': 4, 'quoteId': 5, 'spreadTable': 7.5, 'spreadRaw': 0.00075}}\n",
      "TICK:  {'command': 'tickPrices', 'data': {'symbol': 'EURGBP', 'ask': 0.93317, 'bid': 0.93239, 'high': 0.93845, 'low': 0.9154, 'askVolume': 250000, 'bidVolume': 250000, 'timestamp': 1584985912919, 'level': 0, 'quoteId': 5, 'spreadTable': 7.8, 'spreadRaw': 0.00078}}\n",
      "6\n"
     ]
    },
    {
     "name": "stderr",
     "output_type": "stream",
     "text": [
      "[2020-03-23 17:51:56,871][_read:110] Received: {'command': 'tickPrices', 'data': {'symbol': 'EURGBP', 'ask': 0.93319, 'bid': 0.93237, 'high': 0.93845, 'low': 0.9154, 'askVolume': 700000, 'bidVolume': 900000, 'timestamp': 1584985912919, 'level': 1, 'quoteId': 5, 'spreadTable': 8.2, 'spreadRaw': 0.00082}}\n",
      "[2020-03-23 17:51:56,873][_readStream:201] Stream received: {'command': 'tickPrices', 'data': {'symbol': 'EURGBP', 'ask': 0.93319, 'bid': 0.93237, 'high': 0.93845, 'low': 0.9154, 'askVolume': 700000, 'bidVolume': 900000, 'timestamp': 1584985912919, 'level': 1, 'quoteId': 5, 'spreadTable': 8.2, 'spreadRaw': 0.00082}}\n"
     ]
    },
    {
     "name": "stdout",
     "output_type": "stream",
     "text": [
      "TICK:  {'command': 'tickPrices', 'data': {'symbol': 'EURGBP', 'ask': 0.93319, 'bid': 0.93237, 'high': 0.93845, 'low': 0.9154, 'askVolume': 700000, 'bidVolume': 900000, 'timestamp': 1584985912919, 'level': 1, 'quoteId': 5, 'spreadTable': 8.2, 'spreadRaw': 0.00082}}\n",
      "7\n",
      "8\n"
     ]
    }
   ],
   "source": [
    "main()"
   ]
  },
  {
   "cell_type": "code",
   "execution_count": null,
   "metadata": {},
   "outputs": [],
   "source": []
  }
 ],
 "metadata": {
  "file_extension": ".py",
  "kernelspec": {
   "display_name": "Python 3",
   "language": "python",
   "name": "python3"
  },
  "language_info": {
   "codemirror_mode": {
    "name": "ipython",
    "version": 3
   },
   "file_extension": ".py",
   "mimetype": "text/x-python",
   "name": "python",
   "nbconvert_exporter": "python",
   "pygments_lexer": "ipython3",
   "version": "3.7.6"
  },
  "mimetype": "text/x-python",
  "name": "python",
  "npconvert_exporter": "python",
  "pygments_lexer": "ipython3",
  "version": 3
 },
 "nbformat": 4,
 "nbformat_minor": 2
}
